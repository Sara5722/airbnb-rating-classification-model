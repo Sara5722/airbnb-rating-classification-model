{
 "cells": [
  {
   "cell_type": "markdown",
   "metadata": {},
   "source": [
    "# Lab 8: Define and Solve an ML Problem of Your Choosing"
   ]
  },
  {
   "cell_type": "code",
   "execution_count": 1,
   "metadata": {},
   "outputs": [],
   "source": [
    "import pandas as pd\n",
    "import numpy as np\n",
    "import os \n",
    "import matplotlib.pyplot as plt\n",
    "import seaborn as sns"
   ]
  },
  {
   "cell_type": "markdown",
   "metadata": {},
   "source": [
    "In this lab assignment, you will follow the machine learning life cycle and implement a model to solve a machine learning problem of your choosing. You will select a data set and choose a predictive problem that the data set supports.  You will then inspect the data with your problem in mind and begin to formulate a  project plan. You will then implement the machine learning project plan. \n",
    "\n",
    "You will complete the following tasks:\n",
    "\n",
    "1. Build Your DataFrame\n",
    "2. Define Your ML Problem\n",
    "3. Perform exploratory data analysis to understand your data.\n",
    "4. Define Your Project Plan\n",
    "5. Implement Your Project Plan:\n",
    "    * Prepare your data for your model.\n",
    "    * Fit your model to the training data and evaluate your model.\n",
    "    * Improve your model's performance."
   ]
  },
  {
   "cell_type": "markdown",
   "metadata": {},
   "source": [
    "## Part 1: Build Your DataFrame\n",
    "\n",
    "You will have the option to choose one of four data sets that you have worked with in this program:\n",
    "\n",
    "* The \"census\" data set that contains Census information from 1994: `censusData.csv`\n",
    "* Airbnb NYC \"listings\" data set: `airbnbListingsData.csv`\n",
    "* World Happiness Report (WHR) data set: `WHR2018Chapter2OnlineData.csv`\n",
    "* Book Review data set: `bookReviewsData.csv`\n",
    "\n",
    "Note that these are variations of the data sets that you have worked with in this program. For example, some do not include some of the preprocessing necessary for specific models. \n",
    "\n",
    "#### Load a Data Set and Save it as a Pandas DataFrame\n",
    "\n",
    "The code cell below contains filenames (path + filename) for each of the four data sets available to you.\n",
    "\n",
    "<b>Task:</b> In the code cell below, use the same method you have been using to load the data using `pd.read_csv()` and save it to DataFrame `df`. \n",
    "\n",
    "You can load each file as a new DataFrame to inspect the data before choosing your data set."
   ]
  },
  {
   "cell_type": "code",
   "execution_count": 2,
   "metadata": {
    "scrolled": true
   },
   "outputs": [
    {
     "data": {
      "text/html": [
       "<div>\n",
       "<style scoped>\n",
       "    .dataframe tbody tr th:only-of-type {\n",
       "        vertical-align: middle;\n",
       "    }\n",
       "\n",
       "    .dataframe tbody tr th {\n",
       "        vertical-align: top;\n",
       "    }\n",
       "\n",
       "    .dataframe thead th {\n",
       "        text-align: right;\n",
       "    }\n",
       "</style>\n",
       "<table border=\"1\" class=\"dataframe\">\n",
       "  <thead>\n",
       "    <tr style=\"text-align: right;\">\n",
       "      <th></th>\n",
       "      <th>name</th>\n",
       "      <th>description</th>\n",
       "      <th>neighborhood_overview</th>\n",
       "      <th>host_name</th>\n",
       "      <th>host_location</th>\n",
       "      <th>host_about</th>\n",
       "      <th>host_response_rate</th>\n",
       "      <th>host_acceptance_rate</th>\n",
       "      <th>host_is_superhost</th>\n",
       "      <th>host_listings_count</th>\n",
       "      <th>...</th>\n",
       "      <th>review_scores_communication</th>\n",
       "      <th>review_scores_location</th>\n",
       "      <th>review_scores_value</th>\n",
       "      <th>instant_bookable</th>\n",
       "      <th>calculated_host_listings_count</th>\n",
       "      <th>calculated_host_listings_count_entire_homes</th>\n",
       "      <th>calculated_host_listings_count_private_rooms</th>\n",
       "      <th>calculated_host_listings_count_shared_rooms</th>\n",
       "      <th>reviews_per_month</th>\n",
       "      <th>n_host_verifications</th>\n",
       "    </tr>\n",
       "  </thead>\n",
       "  <tbody>\n",
       "    <tr>\n",
       "      <th>0</th>\n",
       "      <td>Skylit Midtown Castle</td>\n",
       "      <td>Beautiful, spacious skylit studio in the heart...</td>\n",
       "      <td>Centrally located in the heart of Manhattan ju...</td>\n",
       "      <td>Jennifer</td>\n",
       "      <td>New York, New York, United States</td>\n",
       "      <td>A New Yorker since 2000! My passion is creatin...</td>\n",
       "      <td>0.80</td>\n",
       "      <td>0.17</td>\n",
       "      <td>True</td>\n",
       "      <td>8.0</td>\n",
       "      <td>...</td>\n",
       "      <td>4.79</td>\n",
       "      <td>4.86</td>\n",
       "      <td>4.41</td>\n",
       "      <td>False</td>\n",
       "      <td>3</td>\n",
       "      <td>3</td>\n",
       "      <td>0</td>\n",
       "      <td>0</td>\n",
       "      <td>0.33</td>\n",
       "      <td>9</td>\n",
       "    </tr>\n",
       "    <tr>\n",
       "      <th>1</th>\n",
       "      <td>Whole flr w/private bdrm, bath &amp; kitchen(pls r...</td>\n",
       "      <td>Enjoy 500 s.f. top floor in 1899 brownstone, w...</td>\n",
       "      <td>Just the right mix of urban center and local n...</td>\n",
       "      <td>LisaRoxanne</td>\n",
       "      <td>New York, New York, United States</td>\n",
       "      <td>Laid-back Native New Yorker (formerly bi-coast...</td>\n",
       "      <td>0.09</td>\n",
       "      <td>0.69</td>\n",
       "      <td>True</td>\n",
       "      <td>1.0</td>\n",
       "      <td>...</td>\n",
       "      <td>4.80</td>\n",
       "      <td>4.71</td>\n",
       "      <td>4.64</td>\n",
       "      <td>False</td>\n",
       "      <td>1</td>\n",
       "      <td>1</td>\n",
       "      <td>0</td>\n",
       "      <td>0</td>\n",
       "      <td>4.86</td>\n",
       "      <td>6</td>\n",
       "    </tr>\n",
       "    <tr>\n",
       "      <th>2</th>\n",
       "      <td>Spacious Brooklyn Duplex, Patio + Garden</td>\n",
       "      <td>We welcome you to stay in our lovely 2 br dupl...</td>\n",
       "      <td>NaN</td>\n",
       "      <td>Rebecca</td>\n",
       "      <td>Brooklyn, New York, United States</td>\n",
       "      <td>Rebecca is an artist/designer, and Henoch is i...</td>\n",
       "      <td>1.00</td>\n",
       "      <td>0.25</td>\n",
       "      <td>True</td>\n",
       "      <td>1.0</td>\n",
       "      <td>...</td>\n",
       "      <td>5.00</td>\n",
       "      <td>4.50</td>\n",
       "      <td>5.00</td>\n",
       "      <td>False</td>\n",
       "      <td>1</td>\n",
       "      <td>1</td>\n",
       "      <td>0</td>\n",
       "      <td>0</td>\n",
       "      <td>0.02</td>\n",
       "      <td>3</td>\n",
       "    </tr>\n",
       "    <tr>\n",
       "      <th>3</th>\n",
       "      <td>Large Furnished Room Near B'way</td>\n",
       "      <td>Please don’t expect the luxury here just a bas...</td>\n",
       "      <td>Theater district, many restaurants around here.</td>\n",
       "      <td>Shunichi</td>\n",
       "      <td>New York, New York, United States</td>\n",
       "      <td>I used to work for a financial industry but no...</td>\n",
       "      <td>1.00</td>\n",
       "      <td>1.00</td>\n",
       "      <td>True</td>\n",
       "      <td>1.0</td>\n",
       "      <td>...</td>\n",
       "      <td>4.42</td>\n",
       "      <td>4.87</td>\n",
       "      <td>4.36</td>\n",
       "      <td>False</td>\n",
       "      <td>1</td>\n",
       "      <td>0</td>\n",
       "      <td>1</td>\n",
       "      <td>0</td>\n",
       "      <td>3.68</td>\n",
       "      <td>4</td>\n",
       "    </tr>\n",
       "    <tr>\n",
       "      <th>4</th>\n",
       "      <td>Cozy Clean Guest Room - Family Apt</td>\n",
       "      <td>Our best guests are seeking a safe, clean, spa...</td>\n",
       "      <td>Our neighborhood is full of restaurants and ca...</td>\n",
       "      <td>MaryEllen</td>\n",
       "      <td>New York, New York, United States</td>\n",
       "      <td>Welcome to family life with my oldest two away...</td>\n",
       "      <td>NaN</td>\n",
       "      <td>NaN</td>\n",
       "      <td>True</td>\n",
       "      <td>1.0</td>\n",
       "      <td>...</td>\n",
       "      <td>4.95</td>\n",
       "      <td>4.94</td>\n",
       "      <td>4.92</td>\n",
       "      <td>False</td>\n",
       "      <td>1</td>\n",
       "      <td>0</td>\n",
       "      <td>1</td>\n",
       "      <td>0</td>\n",
       "      <td>0.87</td>\n",
       "      <td>7</td>\n",
       "    </tr>\n",
       "  </tbody>\n",
       "</table>\n",
       "<p>5 rows × 50 columns</p>\n",
       "</div>"
      ],
      "text/plain": [
       "                                                name  \\\n",
       "0                              Skylit Midtown Castle   \n",
       "1  Whole flr w/private bdrm, bath & kitchen(pls r...   \n",
       "2           Spacious Brooklyn Duplex, Patio + Garden   \n",
       "3                   Large Furnished Room Near B'way　   \n",
       "4                 Cozy Clean Guest Room - Family Apt   \n",
       "\n",
       "                                         description  \\\n",
       "0  Beautiful, spacious skylit studio in the heart...   \n",
       "1  Enjoy 500 s.f. top floor in 1899 brownstone, w...   \n",
       "2  We welcome you to stay in our lovely 2 br dupl...   \n",
       "3  Please don’t expect the luxury here just a bas...   \n",
       "4  Our best guests are seeking a safe, clean, spa...   \n",
       "\n",
       "                               neighborhood_overview    host_name  \\\n",
       "0  Centrally located in the heart of Manhattan ju...     Jennifer   \n",
       "1  Just the right mix of urban center and local n...  LisaRoxanne   \n",
       "2                                                NaN      Rebecca   \n",
       "3    Theater district, many restaurants around here.     Shunichi   \n",
       "4  Our neighborhood is full of restaurants and ca...    MaryEllen   \n",
       "\n",
       "                       host_location  \\\n",
       "0  New York, New York, United States   \n",
       "1  New York, New York, United States   \n",
       "2  Brooklyn, New York, United States   \n",
       "3  New York, New York, United States   \n",
       "4  New York, New York, United States   \n",
       "\n",
       "                                          host_about  host_response_rate  \\\n",
       "0  A New Yorker since 2000! My passion is creatin...                0.80   \n",
       "1  Laid-back Native New Yorker (formerly bi-coast...                0.09   \n",
       "2  Rebecca is an artist/designer, and Henoch is i...                1.00   \n",
       "3  I used to work for a financial industry but no...                1.00   \n",
       "4  Welcome to family life with my oldest two away...                 NaN   \n",
       "\n",
       "   host_acceptance_rate  host_is_superhost  host_listings_count  ...  \\\n",
       "0                  0.17               True                  8.0  ...   \n",
       "1                  0.69               True                  1.0  ...   \n",
       "2                  0.25               True                  1.0  ...   \n",
       "3                  1.00               True                  1.0  ...   \n",
       "4                   NaN               True                  1.0  ...   \n",
       "\n",
       "   review_scores_communication  review_scores_location  review_scores_value  \\\n",
       "0                         4.79                    4.86                 4.41   \n",
       "1                         4.80                    4.71                 4.64   \n",
       "2                         5.00                    4.50                 5.00   \n",
       "3                         4.42                    4.87                 4.36   \n",
       "4                         4.95                    4.94                 4.92   \n",
       "\n",
       "  instant_bookable calculated_host_listings_count  \\\n",
       "0            False                              3   \n",
       "1            False                              1   \n",
       "2            False                              1   \n",
       "3            False                              1   \n",
       "4            False                              1   \n",
       "\n",
       "   calculated_host_listings_count_entire_homes  \\\n",
       "0                                            3   \n",
       "1                                            1   \n",
       "2                                            1   \n",
       "3                                            0   \n",
       "4                                            0   \n",
       "\n",
       "   calculated_host_listings_count_private_rooms  \\\n",
       "0                                             0   \n",
       "1                                             0   \n",
       "2                                             0   \n",
       "3                                             1   \n",
       "4                                             1   \n",
       "\n",
       "   calculated_host_listings_count_shared_rooms  reviews_per_month  \\\n",
       "0                                            0               0.33   \n",
       "1                                            0               4.86   \n",
       "2                                            0               0.02   \n",
       "3                                            0               3.68   \n",
       "4                                            0               0.87   \n",
       "\n",
       "  n_host_verifications  \n",
       "0                    9  \n",
       "1                    6  \n",
       "2                    3  \n",
       "3                    4  \n",
       "4                    7  \n",
       "\n",
       "[5 rows x 50 columns]"
      ]
     },
     "execution_count": 2,
     "metadata": {},
     "output_type": "execute_result"
    }
   ],
   "source": [
    "# File names of the four data sets\n",
    "adultDataSet_filename = os.path.join(os.getcwd(), \"data\", \"censusData.csv\")\n",
    "airbnbDataSet_filename = os.path.join(os.getcwd(), \"data\", \"airbnbListingsData.csv\")\n",
    "WHRDataSet_filename = os.path.join(os.getcwd(), \"data\", \"WHR2018Chapter2OnlineData.csv\")\n",
    "bookReviewDataSet_filename = os.path.join(os.getcwd(), \"data\", \"bookReviewsData.csv\")\n",
    "\n",
    "\n",
    "df = pd.read_csv(airbnbDataSet_filename, header=0) # YOUR CODE HERE\n",
    "#print(df.columns)\n",
    "#print(df['review_scores_rating'])\n",
    "df.head()"
   ]
  },
  {
   "cell_type": "markdown",
   "metadata": {},
   "source": [
    "## Part 2: Define Your ML Problem\n",
    "\n",
    "Next you will formulate your ML Problem. In the markdown cell below, answer the following questions:\n",
    "\n",
    "1. List the data set you have chosen.\n",
    "2. What will you be predicting? What is the label?\n",
    "3. Is this a supervised or unsupervised learning problem? Is this a clustering, classification or regression problem? Is it a binary classificaiton or multi-class classifiction problem?\n",
    "4. What are your features? (note: this list may change after your explore your data)\n",
    "5. Explain why this is an important problem. In other words, how would a company create value with a model that predicts this label?"
   ]
  },
  {
   "cell_type": "markdown",
   "metadata": {},
   "source": [
    "Answers: \n",
    "1) The dataset I have chosen is the airbnb dataset, because it includes several numerical and categorical columns that I can explore.\n",
    "\n",
    "2) The label I will be predicting is the review_scores_rating column, to predict what the overall review of the airbnb listing is.\n",
    "\n",
    "3) This is a supervised learning problem, since the data used for training will be labeled. Although the review_scores_rating column is currently numeric scores, I plan to make this into a multiclassification problem by assigning labels to the scores based on different rating thresholds.\n",
    "\n",
    "4) There are several features I can use for this problem since this dataset is vast but some of them I plan to use include\n",
    "[room_type, neighbourhood_group_cleansed, host_response_rate, host_acceptance_rate,host_is_superhost, host_listings_count, accommodate, bedrooms, bathrooms, beds, price, minimum_nights, maximum_nights, availability_30, availability_60, availability_90, availability_365,number_of_reviews, instant_bookable, has_availability]. \n",
    "\n",
    "Since I will use a lot of columns I wanted to mention some columns I would drop, such as all the smaller review_scores columns that seem repetitive, since the overall review scores is what is being predicted, and columns like host name, description, etc. that will not contribute to the problem. \n",
    "\n",
    "5) This is an important problem because it can help find airbnb listings that are highly rated and recommend them to users, and well as filter out listings that will potentially do worse, giving the people who posted the listing a chance to improve their listing depending on what is giving them a low rating, and overall see what customers like. This predictive model can mostly help customers, which is a big part of any business problem, by making them have an efficient and easy experience selecting a place to stay."
   ]
  },
  {
   "cell_type": "markdown",
   "metadata": {},
   "source": [
    "## Part 3: Understand Your Data\n",
    "\n",
    "The next step is to perform exploratory data analysis. Inspect and analyze your data set with your machine learning problem in mind. Consider the following as you inspect your data:\n",
    "\n",
    "1. What data preparation techniques would you like to use? These data preparation techniques may include:\n",
    "\n",
    "    * addressing missingness, such as replacing missing values with means\n",
    "    * finding and replacing outliers\n",
    "    * renaming features and labels\n",
    "    * finding and replacing outliers\n",
    "    * performing feature engineering techniques such as one-hot encoding on categorical features\n",
    "    * selecting appropriate features and removing irrelevant features\n",
    "    * performing specific data cleaning and preprocessing techniques for an NLP problem\n",
    "    * addressing class imbalance in your data sample to promote fair AI\n",
    "    \n",
    "\n",
    "2. What machine learning model (or models) you would like to use that is suitable for your predictive problem and data?\n",
    "    * Are there other data preparation techniques that you will need to apply to build a balanced modeling data set for your problem and model? For example, will you need to scale your data?\n",
    " \n",
    " \n",
    "3. How will you evaluate and improve the model's performance?\n",
    "    * Are there specific evaluation metrics and methods that are appropriate for your model?\n",
    "    \n",
    "\n",
    "Think of the different techniques you have used to inspect and analyze your data in this course. These include using Pandas to apply data filters, using the Pandas `describe()` method to get insight into key statistics for each column, using the Pandas `dtypes` property to inspect the data type of each column, and using Matplotlib and Seaborn to detect outliers and visualize relationships between features and labels. If you are working on a classification problem, use techniques you have learned to determine if there is class imbalance.\n",
    "\n",
    "<b>Task</b>: Use the techniques you have learned in this course to inspect and analyze your data. You can import additional packages that you have used in this course that you will need to perform this task.\n",
    "\n",
    "<b>Note</b>: You can add code cells if needed by going to the <b>Insert</b> menu and clicking on <b>Insert Cell Below</b> in the drop-drown menu."
   ]
  },
  {
   "cell_type": "markdown",
   "metadata": {},
   "source": [
    "**EDA and insights**"
   ]
  },
  {
   "cell_type": "markdown",
   "metadata": {},
   "source": [
    "I will begin inspecting the overall dataset. I will do this before converting the label from a numeric column to a labeled object column, since exploring this will be easier with numbers. "
   ]
  },
  {
   "cell_type": "code",
   "execution_count": 3,
   "metadata": {},
   "outputs": [
    {
     "name": "stdout",
     "output_type": "stream",
     "text": [
      "DataFrame Shape:  (28022, 50) \n",
      "\n",
      "Data Types of Columns: \n",
      " name                                             object\n",
      "description                                      object\n",
      "neighborhood_overview                            object\n",
      "host_name                                        object\n",
      "host_location                                    object\n",
      "host_about                                       object\n",
      "host_response_rate                              float64\n",
      "host_acceptance_rate                            float64\n",
      "host_is_superhost                                  bool\n",
      "host_listings_count                             float64\n",
      "host_total_listings_count                       float64\n",
      "host_has_profile_pic                               bool\n",
      "host_identity_verified                             bool\n",
      "neighbourhood_group_cleansed                     object\n",
      "room_type                                        object\n",
      "accommodates                                      int64\n",
      "bathrooms                                       float64\n",
      "bedrooms                                        float64\n",
      "beds                                            float64\n",
      "amenities                                        object\n",
      "price                                           float64\n",
      "minimum_nights                                    int64\n",
      "maximum_nights                                    int64\n",
      "minimum_minimum_nights                          float64\n",
      "maximum_minimum_nights                          float64\n",
      "minimum_maximum_nights                          float64\n",
      "maximum_maximum_nights                          float64\n",
      "minimum_nights_avg_ntm                          float64\n",
      "maximum_nights_avg_ntm                          float64\n",
      "has_availability                                   bool\n",
      "availability_30                                   int64\n",
      "availability_60                                   int64\n",
      "availability_90                                   int64\n",
      "availability_365                                  int64\n",
      "number_of_reviews                                 int64\n",
      "number_of_reviews_ltm                             int64\n",
      "number_of_reviews_l30d                            int64\n",
      "review_scores_rating                            float64\n",
      "review_scores_cleanliness                       float64\n",
      "review_scores_checkin                           float64\n",
      "review_scores_communication                     float64\n",
      "review_scores_location                          float64\n",
      "review_scores_value                             float64\n",
      "instant_bookable                                   bool\n",
      "calculated_host_listings_count                    int64\n",
      "calculated_host_listings_count_entire_homes       int64\n",
      "calculated_host_listings_count_private_rooms      int64\n",
      "calculated_host_listings_count_shared_rooms       int64\n",
      "reviews_per_month                               float64\n",
      "n_host_verifications                              int64\n",
      "dtype: object\n"
     ]
    }
   ],
   "source": [
    "print(\"DataFrame Shape: \", df.shape, \"\\n\")\n",
    "print(\"Data Types of Columns: \\n\", df.dtypes)"
   ]
  },
  {
   "cell_type": "markdown",
   "metadata": {},
   "source": [
    "From inspecting the column data types, I see that I will be working mostly with numeric columns, but there are a few object columns I will have to one-hot-encode, like room types. Some boolean columns can also be useful, so changing true\\false values into 0 and 1 during the data preparation step might be needed. "
   ]
  },
  {
   "cell_type": "code",
   "execution_count": 4,
   "metadata": {},
   "outputs": [
    {
     "data": {
      "text/plain": [
       "name                                                5\n",
       "description                                       570\n",
       "neighborhood_overview                            9816\n",
       "host_name                                           0\n",
       "host_location                                      60\n",
       "host_about                                      10945\n",
       "host_response_rate                              11843\n",
       "host_acceptance_rate                            11113\n",
       "host_is_superhost                                   0\n",
       "host_listings_count                                 0\n",
       "host_total_listings_count                           0\n",
       "host_has_profile_pic                                0\n",
       "host_identity_verified                              0\n",
       "neighbourhood_group_cleansed                        0\n",
       "room_type                                           0\n",
       "accommodates                                        0\n",
       "bathrooms                                           0\n",
       "bedrooms                                         2918\n",
       "beds                                             1354\n",
       "amenities                                           0\n",
       "price                                               0\n",
       "minimum_nights                                      0\n",
       "maximum_nights                                      0\n",
       "minimum_minimum_nights                              0\n",
       "maximum_minimum_nights                              0\n",
       "minimum_maximum_nights                              0\n",
       "maximum_maximum_nights                              0\n",
       "minimum_nights_avg_ntm                              0\n",
       "maximum_nights_avg_ntm                              0\n",
       "has_availability                                    0\n",
       "availability_30                                     0\n",
       "availability_60                                     0\n",
       "availability_90                                     0\n",
       "availability_365                                    0\n",
       "number_of_reviews                                   0\n",
       "number_of_reviews_ltm                               0\n",
       "number_of_reviews_l30d                              0\n",
       "review_scores_rating                                0\n",
       "review_scores_cleanliness                           0\n",
       "review_scores_checkin                               0\n",
       "review_scores_communication                         0\n",
       "review_scores_location                              0\n",
       "review_scores_value                                 0\n",
       "instant_bookable                                    0\n",
       "calculated_host_listings_count                      0\n",
       "calculated_host_listings_count_entire_homes         0\n",
       "calculated_host_listings_count_private_rooms        0\n",
       "calculated_host_listings_count_shared_rooms         0\n",
       "reviews_per_month                                   0\n",
       "n_host_verifications                                0\n",
       "dtype: int64"
      ]
     },
     "execution_count": 4,
     "metadata": {},
     "output_type": "execute_result"
    }
   ],
   "source": [
    "df.isnull().sum()"
   ]
  },
  {
   "cell_type": "markdown",
   "metadata": {},
   "source": [
    "After reviewing the null count, I also will have to drop some columns, but most of these are columns I wanted to drop anyway. Columns with null values that I wanted to keep are host_response_rate, bedrooms and beds, so I will have to fill the missing values with the mean values from the dataset. "
   ]
  },
  {
   "cell_type": "code",
   "execution_count": 5,
   "metadata": {},
   "outputs": [
    {
     "data": {
      "text/html": [
       "<div>\n",
       "<style scoped>\n",
       "    .dataframe tbody tr th:only-of-type {\n",
       "        vertical-align: middle;\n",
       "    }\n",
       "\n",
       "    .dataframe tbody tr th {\n",
       "        vertical-align: top;\n",
       "    }\n",
       "\n",
       "    .dataframe thead th {\n",
       "        text-align: right;\n",
       "    }\n",
       "</style>\n",
       "<table border=\"1\" class=\"dataframe\">\n",
       "  <thead>\n",
       "    <tr style=\"text-align: right;\">\n",
       "      <th></th>\n",
       "      <th>host_response_rate</th>\n",
       "      <th>host_acceptance_rate</th>\n",
       "      <th>host_listings_count</th>\n",
       "      <th>host_total_listings_count</th>\n",
       "      <th>accommodates</th>\n",
       "      <th>bathrooms</th>\n",
       "      <th>bedrooms</th>\n",
       "      <th>beds</th>\n",
       "      <th>price</th>\n",
       "      <th>minimum_nights</th>\n",
       "      <th>...</th>\n",
       "      <th>review_scores_checkin</th>\n",
       "      <th>review_scores_communication</th>\n",
       "      <th>review_scores_location</th>\n",
       "      <th>review_scores_value</th>\n",
       "      <th>calculated_host_listings_count</th>\n",
       "      <th>calculated_host_listings_count_entire_homes</th>\n",
       "      <th>calculated_host_listings_count_private_rooms</th>\n",
       "      <th>calculated_host_listings_count_shared_rooms</th>\n",
       "      <th>reviews_per_month</th>\n",
       "      <th>n_host_verifications</th>\n",
       "    </tr>\n",
       "  </thead>\n",
       "  <tbody>\n",
       "    <tr>\n",
       "      <th>count</th>\n",
       "      <td>16179.000000</td>\n",
       "      <td>16909.000000</td>\n",
       "      <td>28022.000000</td>\n",
       "      <td>28022.000000</td>\n",
       "      <td>28022.000000</td>\n",
       "      <td>28022.000000</td>\n",
       "      <td>25104.000000</td>\n",
       "      <td>26668.000000</td>\n",
       "      <td>28022.000000</td>\n",
       "      <td>28022.000000</td>\n",
       "      <td>...</td>\n",
       "      <td>28022.000000</td>\n",
       "      <td>28022.000000</td>\n",
       "      <td>28022.000000</td>\n",
       "      <td>28022.000000</td>\n",
       "      <td>28022.000000</td>\n",
       "      <td>28022.000000</td>\n",
       "      <td>28022.000000</td>\n",
       "      <td>28022.000000</td>\n",
       "      <td>28022.000000</td>\n",
       "      <td>28022.000000</td>\n",
       "    </tr>\n",
       "    <tr>\n",
       "      <th>mean</th>\n",
       "      <td>0.906901</td>\n",
       "      <td>0.791953</td>\n",
       "      <td>14.554778</td>\n",
       "      <td>14.554778</td>\n",
       "      <td>2.874491</td>\n",
       "      <td>1.142174</td>\n",
       "      <td>1.329708</td>\n",
       "      <td>1.629556</td>\n",
       "      <td>154.228749</td>\n",
       "      <td>18.689387</td>\n",
       "      <td>...</td>\n",
       "      <td>4.814300</td>\n",
       "      <td>4.808041</td>\n",
       "      <td>4.750393</td>\n",
       "      <td>4.647670</td>\n",
       "      <td>9.581900</td>\n",
       "      <td>5.562986</td>\n",
       "      <td>3.902077</td>\n",
       "      <td>0.048283</td>\n",
       "      <td>1.758325</td>\n",
       "      <td>5.169510</td>\n",
       "    </tr>\n",
       "    <tr>\n",
       "      <th>std</th>\n",
       "      <td>0.227282</td>\n",
       "      <td>0.276732</td>\n",
       "      <td>120.721287</td>\n",
       "      <td>120.721287</td>\n",
       "      <td>1.860251</td>\n",
       "      <td>0.421132</td>\n",
       "      <td>0.700726</td>\n",
       "      <td>1.097104</td>\n",
       "      <td>140.816605</td>\n",
       "      <td>25.569151</td>\n",
       "      <td>...</td>\n",
       "      <td>0.438603</td>\n",
       "      <td>0.464585</td>\n",
       "      <td>0.415717</td>\n",
       "      <td>0.518023</td>\n",
       "      <td>32.227523</td>\n",
       "      <td>26.121426</td>\n",
       "      <td>17.972386</td>\n",
       "      <td>0.442459</td>\n",
       "      <td>4.446143</td>\n",
       "      <td>2.028497</td>\n",
       "    </tr>\n",
       "    <tr>\n",
       "      <th>min</th>\n",
       "      <td>0.000000</td>\n",
       "      <td>0.000000</td>\n",
       "      <td>0.000000</td>\n",
       "      <td>0.000000</td>\n",
       "      <td>1.000000</td>\n",
       "      <td>0.000000</td>\n",
       "      <td>1.000000</td>\n",
       "      <td>1.000000</td>\n",
       "      <td>29.000000</td>\n",
       "      <td>1.000000</td>\n",
       "      <td>...</td>\n",
       "      <td>0.000000</td>\n",
       "      <td>0.000000</td>\n",
       "      <td>0.000000</td>\n",
       "      <td>0.000000</td>\n",
       "      <td>1.000000</td>\n",
       "      <td>0.000000</td>\n",
       "      <td>0.000000</td>\n",
       "      <td>0.000000</td>\n",
       "      <td>0.010000</td>\n",
       "      <td>1.000000</td>\n",
       "    </tr>\n",
       "    <tr>\n",
       "      <th>25%</th>\n",
       "      <td>0.940000</td>\n",
       "      <td>0.680000</td>\n",
       "      <td>1.000000</td>\n",
       "      <td>1.000000</td>\n",
       "      <td>2.000000</td>\n",
       "      <td>1.000000</td>\n",
       "      <td>1.000000</td>\n",
       "      <td>1.000000</td>\n",
       "      <td>70.000000</td>\n",
       "      <td>2.000000</td>\n",
       "      <td>...</td>\n",
       "      <td>4.810000</td>\n",
       "      <td>4.810000</td>\n",
       "      <td>4.670000</td>\n",
       "      <td>4.550000</td>\n",
       "      <td>1.000000</td>\n",
       "      <td>0.000000</td>\n",
       "      <td>0.000000</td>\n",
       "      <td>0.000000</td>\n",
       "      <td>0.130000</td>\n",
       "      <td>4.000000</td>\n",
       "    </tr>\n",
       "    <tr>\n",
       "      <th>50%</th>\n",
       "      <td>1.000000</td>\n",
       "      <td>0.910000</td>\n",
       "      <td>1.000000</td>\n",
       "      <td>1.000000</td>\n",
       "      <td>2.000000</td>\n",
       "      <td>1.000000</td>\n",
       "      <td>1.000000</td>\n",
       "      <td>1.000000</td>\n",
       "      <td>115.000000</td>\n",
       "      <td>30.000000</td>\n",
       "      <td>...</td>\n",
       "      <td>4.960000</td>\n",
       "      <td>4.970000</td>\n",
       "      <td>4.880000</td>\n",
       "      <td>4.780000</td>\n",
       "      <td>1.000000</td>\n",
       "      <td>1.000000</td>\n",
       "      <td>0.000000</td>\n",
       "      <td>0.000000</td>\n",
       "      <td>0.510000</td>\n",
       "      <td>5.000000</td>\n",
       "    </tr>\n",
       "    <tr>\n",
       "      <th>75%</th>\n",
       "      <td>1.000000</td>\n",
       "      <td>1.000000</td>\n",
       "      <td>3.000000</td>\n",
       "      <td>3.000000</td>\n",
       "      <td>4.000000</td>\n",
       "      <td>1.000000</td>\n",
       "      <td>1.000000</td>\n",
       "      <td>2.000000</td>\n",
       "      <td>180.000000</td>\n",
       "      <td>30.000000</td>\n",
       "      <td>...</td>\n",
       "      <td>5.000000</td>\n",
       "      <td>5.000000</td>\n",
       "      <td>5.000000</td>\n",
       "      <td>5.000000</td>\n",
       "      <td>3.000000</td>\n",
       "      <td>1.000000</td>\n",
       "      <td>1.000000</td>\n",
       "      <td>0.000000</td>\n",
       "      <td>1.830000</td>\n",
       "      <td>7.000000</td>\n",
       "    </tr>\n",
       "    <tr>\n",
       "      <th>max</th>\n",
       "      <td>1.000000</td>\n",
       "      <td>1.000000</td>\n",
       "      <td>3387.000000</td>\n",
       "      <td>3387.000000</td>\n",
       "      <td>16.000000</td>\n",
       "      <td>8.000000</td>\n",
       "      <td>12.000000</td>\n",
       "      <td>21.000000</td>\n",
       "      <td>1000.000000</td>\n",
       "      <td>1250.000000</td>\n",
       "      <td>...</td>\n",
       "      <td>5.000000</td>\n",
       "      <td>5.000000</td>\n",
       "      <td>5.000000</td>\n",
       "      <td>5.000000</td>\n",
       "      <td>421.000000</td>\n",
       "      <td>308.000000</td>\n",
       "      <td>359.000000</td>\n",
       "      <td>8.000000</td>\n",
       "      <td>141.000000</td>\n",
       "      <td>13.000000</td>\n",
       "    </tr>\n",
       "  </tbody>\n",
       "</table>\n",
       "<p>8 rows × 36 columns</p>\n",
       "</div>"
      ],
      "text/plain": [
       "       host_response_rate  host_acceptance_rate  host_listings_count  \\\n",
       "count        16179.000000          16909.000000         28022.000000   \n",
       "mean             0.906901              0.791953            14.554778   \n",
       "std              0.227282              0.276732           120.721287   \n",
       "min              0.000000              0.000000             0.000000   \n",
       "25%              0.940000              0.680000             1.000000   \n",
       "50%              1.000000              0.910000             1.000000   \n",
       "75%              1.000000              1.000000             3.000000   \n",
       "max              1.000000              1.000000          3387.000000   \n",
       "\n",
       "       host_total_listings_count  accommodates     bathrooms      bedrooms  \\\n",
       "count               28022.000000  28022.000000  28022.000000  25104.000000   \n",
       "mean                   14.554778      2.874491      1.142174      1.329708   \n",
       "std                   120.721287      1.860251      0.421132      0.700726   \n",
       "min                     0.000000      1.000000      0.000000      1.000000   \n",
       "25%                     1.000000      2.000000      1.000000      1.000000   \n",
       "50%                     1.000000      2.000000      1.000000      1.000000   \n",
       "75%                     3.000000      4.000000      1.000000      1.000000   \n",
       "max                  3387.000000     16.000000      8.000000     12.000000   \n",
       "\n",
       "               beds         price  minimum_nights  ...  review_scores_checkin  \\\n",
       "count  26668.000000  28022.000000    28022.000000  ...           28022.000000   \n",
       "mean       1.629556    154.228749       18.689387  ...               4.814300   \n",
       "std        1.097104    140.816605       25.569151  ...               0.438603   \n",
       "min        1.000000     29.000000        1.000000  ...               0.000000   \n",
       "25%        1.000000     70.000000        2.000000  ...               4.810000   \n",
       "50%        1.000000    115.000000       30.000000  ...               4.960000   \n",
       "75%        2.000000    180.000000       30.000000  ...               5.000000   \n",
       "max       21.000000   1000.000000     1250.000000  ...               5.000000   \n",
       "\n",
       "       review_scores_communication  review_scores_location  \\\n",
       "count                 28022.000000            28022.000000   \n",
       "mean                      4.808041                4.750393   \n",
       "std                       0.464585                0.415717   \n",
       "min                       0.000000                0.000000   \n",
       "25%                       4.810000                4.670000   \n",
       "50%                       4.970000                4.880000   \n",
       "75%                       5.000000                5.000000   \n",
       "max                       5.000000                5.000000   \n",
       "\n",
       "       review_scores_value  calculated_host_listings_count  \\\n",
       "count         28022.000000                    28022.000000   \n",
       "mean              4.647670                        9.581900   \n",
       "std               0.518023                       32.227523   \n",
       "min               0.000000                        1.000000   \n",
       "25%               4.550000                        1.000000   \n",
       "50%               4.780000                        1.000000   \n",
       "75%               5.000000                        3.000000   \n",
       "max               5.000000                      421.000000   \n",
       "\n",
       "       calculated_host_listings_count_entire_homes  \\\n",
       "count                                 28022.000000   \n",
       "mean                                      5.562986   \n",
       "std                                      26.121426   \n",
       "min                                       0.000000   \n",
       "25%                                       0.000000   \n",
       "50%                                       1.000000   \n",
       "75%                                       1.000000   \n",
       "max                                     308.000000   \n",
       "\n",
       "       calculated_host_listings_count_private_rooms  \\\n",
       "count                                  28022.000000   \n",
       "mean                                       3.902077   \n",
       "std                                       17.972386   \n",
       "min                                        0.000000   \n",
       "25%                                        0.000000   \n",
       "50%                                        0.000000   \n",
       "75%                                        1.000000   \n",
       "max                                      359.000000   \n",
       "\n",
       "       calculated_host_listings_count_shared_rooms  reviews_per_month  \\\n",
       "count                                 28022.000000       28022.000000   \n",
       "mean                                      0.048283           1.758325   \n",
       "std                                       0.442459           4.446143   \n",
       "min                                       0.000000           0.010000   \n",
       "25%                                       0.000000           0.130000   \n",
       "50%                                       0.000000           0.510000   \n",
       "75%                                       0.000000           1.830000   \n",
       "max                                       8.000000         141.000000   \n",
       "\n",
       "       n_host_verifications  \n",
       "count          28022.000000  \n",
       "mean               5.169510  \n",
       "std                2.028497  \n",
       "min                1.000000  \n",
       "25%                4.000000  \n",
       "50%                5.000000  \n",
       "75%                7.000000  \n",
       "max               13.000000  \n",
       "\n",
       "[8 rows x 36 columns]"
      ]
     },
     "execution_count": 5,
     "metadata": {},
     "output_type": "execute_result"
    }
   ],
   "source": [
    "df.describe()"
   ]
  },
  {
   "cell_type": "markdown",
   "metadata": {},
   "source": [
    "From these simple summary statistics, I can tell the spread of the data seems mostly evenly distributed, but there definitely some skew. For example, one thing I noticed is that after the 50% range in the spread, columns like host_response_rate, all of the 'review_scores' columns, etc, have much higher scores, indicating that this dataset may have less examples of 'bad scores', but I do not think this will cause a problem overall. Since I want to convert the label to object type to make this multiclassification, I will do this now to check for class imbalance. "
   ]
  },
  {
   "cell_type": "code",
   "execution_count": 6,
   "metadata": {},
   "outputs": [
    {
     "data": {
      "text/plain": [
       "High      23263\n",
       "Medium     4013\n",
       "Low         746\n",
       "Name: review_rating_class, dtype: int64"
      ]
     },
     "execution_count": 6,
     "metadata": {},
     "output_type": "execute_result"
    }
   ],
   "source": [
    "def classify_rating(rating):\n",
    "    if pd.isnull(rating):\n",
    "        return None\n",
    "    elif rating >= 4.5:\n",
    "        return 'High'\n",
    "    elif rating >= 3.5:\n",
    "        return 'Medium'\n",
    "    else:\n",
    "        return 'Low'\n",
    "df['review_rating_class'] = df['review_scores_rating'].apply(classify_rating)\n",
    "df['review_rating_class'].value_counts()"
   ]
  },
  {
   "cell_type": "markdown",
   "metadata": {},
   "source": [
    "There definitely is a class imbalance, so during model testing and training, I will split the data using train_test_split() to adjust the sampling in a way that corresponds with the imbalance. Now I will look at the top features the label is correlated with in order to gain insight and possibly reduce the feature list. I will first reduce the list because some columns are irrelevant or repetitive. "
   ]
  },
  {
   "cell_type": "code",
   "execution_count": 7,
   "metadata": {},
   "outputs": [],
   "source": [
    "drop_list = ['name', 'description', 'neighborhood_overview','host_name', 'host_location',\n",
    "'host_about','host_acceptance_rate', 'amenities', 'review_scores_value', 'review_scores_communication',\n",
    "'review_scores_checkin', 'review_scores_location', 'number_of_reviews_l30d', 'number_of_reviews_ltm']  \n",
    "corrs_df = df.drop(drop_list, axis=1)"
   ]
  },
  {
   "cell_type": "code",
   "execution_count": 8,
   "metadata": {},
   "outputs": [
    {
     "data": {
      "text/plain": [
       "review_scores_cleanliness    0.758213\n",
       "host_response_rate           0.121477\n",
       "number_of_reviews            0.067182\n",
       "n_host_verifications         0.050888\n",
       "price                        0.045067\n",
       "Name: review_scores_rating, dtype: float64"
      ]
     },
     "execution_count": 8,
     "metadata": {},
     "output_type": "execute_result"
    }
   ],
   "source": [
    "corrs = corrs_df.corr()['review_scores_rating'].drop('review_scores_rating', axis = 0)\n",
    "corrs_sorted = corrs.sort_values(ascending=False)\n",
    "corrs_sorted.head(5)"
   ]
  },
  {
   "cell_type": "markdown",
   "metadata": {},
   "source": [
    "Since the top 5 correlations are review_scores_cleanliness, host_response_rate, number_of_reviews, n_host_verifications, and price, I will create some visualizations to help understand their impact on the label. "
   ]
  },
  {
   "cell_type": "code",
   "execution_count": 9,
   "metadata": {},
   "outputs": [],
   "source": [
    "top5 = ['review_scores_cleanliness', 'host_response_rate', \n",
    "        'number_of_reviews', 'n_host_verifications', 'price']"
   ]
  },
  {
   "cell_type": "code",
   "execution_count": 10,
   "metadata": {},
   "outputs": [
    {
     "data": {
      "image/png": "[encoded data removed]",
      "text/plain": [
       "<Figure size 600x400 with 1 Axes>"
      ]
     },
     "metadata": {},
     "output_type": "display_data"
    },
    {
     "data": {
      "image/png": "[encoded data removed]",
      "text/plain": [
       "<Figure size 600x400 with 1 Axes>"
      ]
     },
     "metadata": {},
     "output_type": "display_data"
    },
    {
     "data": {
      "image/png": "[encoded data removed]",
      "text/plain": [
       "<Figure size 600x400 with 1 Axes>"
      ]
     },
     "metadata": {},
     "output_type": "display_data"
    },
    {
     "data": {
      "image/png": "[encoded data removed]",
      "text/plain": [
       "<Figure size 600x400 with 1 Axes>"
      ]
     },
     "metadata": {},
     "output_type": "display_data"
    },
    {
     "data": {
      "image/png": "[encoded data removed]",
      "text/plain": [
       "<Figure size 600x400 with 1 Axes>"
      ]
     },
     "metadata": {},
     "output_type": "display_data"
    }
   ],
   "source": [
    "for feature in top5:\n",
    "    plt.figure(figsize=(6, 4))\n",
    "    sns.scatterplot(data=df, x=feature, y='review_scores_rating')\n",
    "    plt.title(f'{feature} vs. review_scores_rating')\n",
    "    plt.xlabel(feature)\n",
    "    plt.ylabel('review_scores_rating')\n",
    "    plt.show()"
   ]
  },
  {
   "cell_type": "markdown",
   "metadata": {},
   "source": [
    "These scatterplot visualizations for the top 5 features and their correlation with the review_scores_rating.\n",
    "Here is what I can tell from them:\n",
    "1. review_scores_cleanliness vs. review_scores_rating: The higher the cleanliness score, the higher the overall score, which shows that customers value a clean space and therefore it determines the overall rating of the airbnb.\n",
    "\n",
    "2. host_response_rate vs. review_scores_rating: While the data is really spread out, there is high concentration in the top right indicating that customers value when hosts have effective communication, so it should be considered for the model.\n",
    "\n",
    "3. number_of_reviews vs. review_scores_rating: Listings with hundreds of reviews seem to have overall better reviews, which can indicate that some airbnbs are popular and good since they have good ratings. \n",
    "\n",
    "4. n_host_verifications vs. review_scores_rating: There is a pretty even spread of datapoints here, which shows that hosts with any amount of verifications can get any score. The part that probably explains their correlation is that hosts with 10+ verifications received rating scores that were 3+. \n",
    "\n",
    "5. price vs. review_scores_rating: The datapoints for this correlation are also very spread out, but there is a higher concentration in the 100-600 price range. showing that listings in this range usually have good reviews. "
   ]
  },
  {
   "cell_type": "markdown",
   "metadata": {},
   "source": [
    "## Part 4: Define Your Project Plan\n",
    "\n",
    "Now that you understand your data, in the markdown cell below, define your plan to implement the remaining phases of the machine learning life cycle (data preparation, modeling, evaluation) to solve your ML problem. Answer the following questions:\n",
    "\n",
    "* Do you have a new feature list? If so, what are the features that you chose to keep and remove after inspecting the data? \n",
    "* Explain different data preparation techniques that you will use to prepare your data for modeling.\n",
    "* What is your model (or models)?\n",
    "* Describe your plan to train your model, analyze its performance and then improve the model. That is, describe your model building, validation and selection plan to produce a model that generalizes well to new data. "
   ]
  },
  {
   "cell_type": "markdown",
   "metadata": {},
   "source": [
    "Project Plan: \n",
    "\n",
    "My feature list was updated a bit after doing exploratory data analysis. The top 10 highest correlated features will definitely be part of my list, but I will also add some new features such as host_is_superhost, has_availability, bedrooms, and accommodates. I plan to drop all the rest of the columns, since they are either text based or repetitive. For example, some of the columns are the same and just span over different amounts of days. I also do not want to have too many features in case the model becomes too complex and overfits. \n",
    "My updated feature list: [review_scores_cleanliness, host_response_rate, number_of_reviews, n_host_verifications, price, host_is_superhost, has_availability, bedrooms, accommodates]\n",
    "\n",
    "Based on the exploratory data analysis, there are a few data preparation techniques I will have to use. Since I plan to keep the bedrooms and host_response_rate features, I will have to find the mean amount of both columns in the dataset and assign it to all of the missing values. I will also have to change the host_is_superhost and has_availability columns from boolean types to 0's and 1's.\n",
    "\n",
    "The model I plan to use for this problem is a Random Forest since there are several features I want to take into consideration, and the problem involves predicting multiple labels. When researching how to fairly train my model, especially with class imbalance, I found that Random Forest Classifiers have a class_weight parameter that can be set to 'balanced', which adjusts for the uneven distribution of classes during training. I also plan to train the model using train_test_split with the stratify=y parameter, which will preserve the class proportions in both the training and testing sets. I’ll split the data into a 2/3 training set and 1/3 testing set.\n",
    "\n",
    "To evaluate the model, I will use a confusion matrix, precision, and recall to clearly visualize how well the model performs on each class and where it may be making mistakes. After testing the initial model, I plan to improve performance by using GridSearchCV to find the optimal combination of hyperparameters like n_estimators, max_depth, and min_samples_split that can increase accuracy and help the model generalize better to new data."
   ]
  },
  {
   "cell_type": "markdown",
   "metadata": {},
   "source": [
    "## Part 5: Implement Your Project Plan\n",
    "\n",
    "<b>Task:</b> In the code cell below, import additional packages that you have used in this course that you will need to implement your project plan."
   ]
  },
  {
   "cell_type": "code",
   "execution_count": 11,
   "metadata": {},
   "outputs": [],
   "source": [
    "# YOUR CODE HERE\n",
    "from sklearn.ensemble import RandomForestClassifier\n",
    "from sklearn.model_selection import train_test_split, GridSearchCV\n",
    "from sklearn.metrics import accuracy_score, confusion_matrix"
   ]
  },
  {
   "cell_type": "markdown",
   "metadata": {},
   "source": [
    "<b>Task:</b> Use the rest of this notebook to carry out your project plan. \n",
    "\n",
    "You will:\n",
    "\n",
    "1. Prepare your data for your model.\n",
    "2. Fit your model to the training data and evaluate your model.\n",
    "3. Improve your model's performance by performing model selection and/or feature selection techniques to find best model for your problem.\n",
    "\n",
    "Add code cells below and populate the notebook with commentary, code, analyses, results, and figures as you see fit. "
   ]
  },
  {
   "cell_type": "markdown",
   "metadata": {},
   "source": [
    "**5.1: Data Preparation**"
   ]
  },
  {
   "cell_type": "markdown",
   "metadata": {},
   "source": [
    "Drop columns that will not be used/ reassign the dataframe"
   ]
  },
  {
   "cell_type": "code",
   "execution_count": 12,
   "metadata": {},
   "outputs": [
    {
     "data": {
      "text/html": [
       "<div>\n",
       "<style scoped>\n",
       "    .dataframe tbody tr th:only-of-type {\n",
       "        vertical-align: middle;\n",
       "    }\n",
       "\n",
       "    .dataframe tbody tr th {\n",
       "        vertical-align: top;\n",
       "    }\n",
       "\n",
       "    .dataframe thead th {\n",
       "        text-align: right;\n",
       "    }\n",
       "</style>\n",
       "<table border=\"1\" class=\"dataframe\">\n",
       "  <thead>\n",
       "    <tr style=\"text-align: right;\">\n",
       "      <th></th>\n",
       "      <th>review_scores_cleanliness</th>\n",
       "      <th>host_response_rate</th>\n",
       "      <th>number_of_reviews</th>\n",
       "      <th>n_host_verifications</th>\n",
       "      <th>price</th>\n",
       "      <th>host_is_superhost</th>\n",
       "      <th>has_availability</th>\n",
       "      <th>bedrooms</th>\n",
       "      <th>accommodates</th>\n",
       "      <th>review_rating_class</th>\n",
       "    </tr>\n",
       "  </thead>\n",
       "  <tbody>\n",
       "    <tr>\n",
       "      <th>0</th>\n",
       "      <td>4.62</td>\n",
       "      <td>0.80</td>\n",
       "      <td>48</td>\n",
       "      <td>9</td>\n",
       "      <td>150.0</td>\n",
       "      <td>True</td>\n",
       "      <td>True</td>\n",
       "      <td>NaN</td>\n",
       "      <td>1</td>\n",
       "      <td>High</td>\n",
       "    </tr>\n",
       "    <tr>\n",
       "      <th>1</th>\n",
       "      <td>4.49</td>\n",
       "      <td>0.09</td>\n",
       "      <td>409</td>\n",
       "      <td>6</td>\n",
       "      <td>75.0</td>\n",
       "      <td>True</td>\n",
       "      <td>True</td>\n",
       "      <td>1.0</td>\n",
       "      <td>3</td>\n",
       "      <td>Medium</td>\n",
       "    </tr>\n",
       "    <tr>\n",
       "      <th>2</th>\n",
       "      <td>5.00</td>\n",
       "      <td>1.00</td>\n",
       "      <td>2</td>\n",
       "      <td>3</td>\n",
       "      <td>275.0</td>\n",
       "      <td>True</td>\n",
       "      <td>True</td>\n",
       "      <td>2.0</td>\n",
       "      <td>4</td>\n",
       "      <td>High</td>\n",
       "    </tr>\n",
       "    <tr>\n",
       "      <th>3</th>\n",
       "      <td>3.73</td>\n",
       "      <td>1.00</td>\n",
       "      <td>507</td>\n",
       "      <td>4</td>\n",
       "      <td>68.0</td>\n",
       "      <td>True</td>\n",
       "      <td>True</td>\n",
       "      <td>1.0</td>\n",
       "      <td>2</td>\n",
       "      <td>Medium</td>\n",
       "    </tr>\n",
       "    <tr>\n",
       "      <th>4</th>\n",
       "      <td>4.82</td>\n",
       "      <td>NaN</td>\n",
       "      <td>118</td>\n",
       "      <td>7</td>\n",
       "      <td>75.0</td>\n",
       "      <td>True</td>\n",
       "      <td>True</td>\n",
       "      <td>1.0</td>\n",
       "      <td>1</td>\n",
       "      <td>High</td>\n",
       "    </tr>\n",
       "    <tr>\n",
       "      <th>...</th>\n",
       "      <td>...</td>\n",
       "      <td>...</td>\n",
       "      <td>...</td>\n",
       "      <td>...</td>\n",
       "      <td>...</td>\n",
       "      <td>...</td>\n",
       "      <td>...</td>\n",
       "      <td>...</td>\n",
       "      <td>...</td>\n",
       "      <td>...</td>\n",
       "    </tr>\n",
       "    <tr>\n",
       "      <th>28017</th>\n",
       "      <td>5.00</td>\n",
       "      <td>1.00</td>\n",
       "      <td>1</td>\n",
       "      <td>2</td>\n",
       "      <td>89.0</td>\n",
       "      <td>True</td>\n",
       "      <td>True</td>\n",
       "      <td>1.0</td>\n",
       "      <td>2</td>\n",
       "      <td>High</td>\n",
       "    </tr>\n",
       "    <tr>\n",
       "      <th>28018</th>\n",
       "      <td>5.00</td>\n",
       "      <td>0.91</td>\n",
       "      <td>2</td>\n",
       "      <td>5</td>\n",
       "      <td>1000.0</td>\n",
       "      <td>True</td>\n",
       "      <td>True</td>\n",
       "      <td>2.0</td>\n",
       "      <td>6</td>\n",
       "      <td>High</td>\n",
       "    </tr>\n",
       "    <tr>\n",
       "      <th>28019</th>\n",
       "      <td>1.00</td>\n",
       "      <td>0.99</td>\n",
       "      <td>1</td>\n",
       "      <td>2</td>\n",
       "      <td>64.0</td>\n",
       "      <td>True</td>\n",
       "      <td>True</td>\n",
       "      <td>1.0</td>\n",
       "      <td>2</td>\n",
       "      <td>Low</td>\n",
       "    </tr>\n",
       "    <tr>\n",
       "      <th>28020</th>\n",
       "      <td>5.00</td>\n",
       "      <td>0.90</td>\n",
       "      <td>1</td>\n",
       "      <td>7</td>\n",
       "      <td>84.0</td>\n",
       "      <td>True</td>\n",
       "      <td>True</td>\n",
       "      <td>1.0</td>\n",
       "      <td>3</td>\n",
       "      <td>High</td>\n",
       "    </tr>\n",
       "    <tr>\n",
       "      <th>28021</th>\n",
       "      <td>5.00</td>\n",
       "      <td>NaN</td>\n",
       "      <td>1</td>\n",
       "      <td>1</td>\n",
       "      <td>70.0</td>\n",
       "      <td>True</td>\n",
       "      <td>True</td>\n",
       "      <td>1.0</td>\n",
       "      <td>1</td>\n",
       "      <td>High</td>\n",
       "    </tr>\n",
       "  </tbody>\n",
       "</table>\n",
       "<p>28022 rows × 10 columns</p>\n",
       "</div>"
      ],
      "text/plain": [
       "       review_scores_cleanliness  host_response_rate  number_of_reviews  \\\n",
       "0                           4.62                0.80                 48   \n",
       "1                           4.49                0.09                409   \n",
       "2                           5.00                1.00                  2   \n",
       "3                           3.73                1.00                507   \n",
       "4                           4.82                 NaN                118   \n",
       "...                          ...                 ...                ...   \n",
       "28017                       5.00                1.00                  1   \n",
       "28018                       5.00                0.91                  2   \n",
       "28019                       1.00                0.99                  1   \n",
       "28020                       5.00                0.90                  1   \n",
       "28021                       5.00                 NaN                  1   \n",
       "\n",
       "       n_host_verifications   price  host_is_superhost  has_availability  \\\n",
       "0                         9   150.0               True              True   \n",
       "1                         6    75.0               True              True   \n",
       "2                         3   275.0               True              True   \n",
       "3                         4    68.0               True              True   \n",
       "4                         7    75.0               True              True   \n",
       "...                     ...     ...                ...               ...   \n",
       "28017                     2    89.0               True              True   \n",
       "28018                     5  1000.0               True              True   \n",
       "28019                     2    64.0               True              True   \n",
       "28020                     7    84.0               True              True   \n",
       "28021                     1    70.0               True              True   \n",
       "\n",
       "       bedrooms  accommodates review_rating_class  \n",
       "0           NaN             1                High  \n",
       "1           1.0             3              Medium  \n",
       "2           2.0             4                High  \n",
       "3           1.0             2              Medium  \n",
       "4           1.0             1                High  \n",
       "...         ...           ...                 ...  \n",
       "28017       1.0             2                High  \n",
       "28018       2.0             6                High  \n",
       "28019       1.0             2                 Low  \n",
       "28020       1.0             3                High  \n",
       "28021       1.0             1                High  \n",
       "\n",
       "[28022 rows x 10 columns]"
      ]
     },
     "execution_count": 12,
     "metadata": {},
     "output_type": "execute_result"
    }
   ],
   "source": [
    "feature_list = ['review_scores_cleanliness', 'host_response_rate', 'number_of_reviews', 'n_host_verifications', 'price', 'host_is_superhost', 'has_availability', 'bedrooms', 'accommodates', 'review_rating_class']\n",
    "df = df[feature_list]\n",
    "df"
   ]
  },
  {
   "cell_type": "code",
   "execution_count": 13,
   "metadata": {},
   "outputs": [
    {
     "data": {
      "text/plain": [
       "review_scores_cleanliness        0\n",
       "host_response_rate           11843\n",
       "number_of_reviews                0\n",
       "n_host_verifications             0\n",
       "price                            0\n",
       "host_is_superhost                0\n",
       "has_availability                 0\n",
       "bedrooms                      2918\n",
       "accommodates                     0\n",
       "review_rating_class              0\n",
       "dtype: int64"
      ]
     },
     "execution_count": 13,
     "metadata": {},
     "output_type": "execute_result"
    }
   ],
   "source": [
    "df.isna().sum()"
   ]
  },
  {
   "cell_type": "markdown",
   "metadata": {},
   "source": [
    "Fill in missing values and check that it worked: "
   ]
  },
  {
   "cell_type": "code",
   "execution_count": 14,
   "metadata": {},
   "outputs": [],
   "source": [
    "df['bedrooms'] = df['bedrooms'].fillna(df['bedrooms'].mean())\n",
    "df['host_response_rate'] = df['host_response_rate'].fillna(df['host_response_rate'].mean())"
   ]
  },
  {
   "cell_type": "code",
   "execution_count": 15,
   "metadata": {},
   "outputs": [
    {
     "data": {
      "text/plain": [
       "review_scores_cleanliness    0\n",
       "host_response_rate           0\n",
       "number_of_reviews            0\n",
       "n_host_verifications         0\n",
       "price                        0\n",
       "host_is_superhost            0\n",
       "has_availability             0\n",
       "bedrooms                     0\n",
       "accommodates                 0\n",
       "review_rating_class          0\n",
       "dtype: int64"
      ]
     },
     "execution_count": 15,
     "metadata": {},
     "output_type": "execute_result"
    }
   ],
   "source": [
    "df.isna().sum()"
   ]
  },
  {
   "cell_type": "markdown",
   "metadata": {},
   "source": [
    "Find features with boolean dataypes and convert to numeric (0 or 1) values:"
   ]
  },
  {
   "cell_type": "code",
   "execution_count": 16,
   "metadata": {},
   "outputs": [
    {
     "data": {
      "text/plain": [
       "review_scores_cleanliness    float64\n",
       "host_response_rate           float64\n",
       "number_of_reviews              int64\n",
       "n_host_verifications           int64\n",
       "price                        float64\n",
       "host_is_superhost               bool\n",
       "has_availability                bool\n",
       "bedrooms                     float64\n",
       "accommodates                   int64\n",
       "review_rating_class           object\n",
       "dtype: object"
      ]
     },
     "execution_count": 16,
     "metadata": {},
     "output_type": "execute_result"
    }
   ],
   "source": [
    "df.dtypes"
   ]
  },
  {
   "cell_type": "code",
   "execution_count": 17,
   "metadata": {},
   "outputs": [],
   "source": [
    "df['host_is_superhost'] = df['host_is_superhost'].astype(int)\n",
    "df['has_availability'] = df['has_availability'].astype(int)"
   ]
  },
  {
   "cell_type": "markdown",
   "metadata": {},
   "source": [
    "Confirm and inspect changes made to the data frame: "
   ]
  },
  {
   "cell_type": "code",
   "execution_count": 18,
   "metadata": {},
   "outputs": [
    {
     "data": {
      "text/html": [
       "<div>\n",
       "<style scoped>\n",
       "    .dataframe tbody tr th:only-of-type {\n",
       "        vertical-align: middle;\n",
       "    }\n",
       "\n",
       "    .dataframe tbody tr th {\n",
       "        vertical-align: top;\n",
       "    }\n",
       "\n",
       "    .dataframe thead th {\n",
       "        text-align: right;\n",
       "    }\n",
       "</style>\n",
       "<table border=\"1\" class=\"dataframe\">\n",
       "  <thead>\n",
       "    <tr style=\"text-align: right;\">\n",
       "      <th></th>\n",
       "      <th>review_scores_cleanliness</th>\n",
       "      <th>host_response_rate</th>\n",
       "      <th>number_of_reviews</th>\n",
       "      <th>n_host_verifications</th>\n",
       "      <th>price</th>\n",
       "      <th>host_is_superhost</th>\n",
       "      <th>has_availability</th>\n",
       "      <th>bedrooms</th>\n",
       "      <th>accommodates</th>\n",
       "      <th>review_rating_class</th>\n",
       "    </tr>\n",
       "  </thead>\n",
       "  <tbody>\n",
       "    <tr>\n",
       "      <th>0</th>\n",
       "      <td>4.62</td>\n",
       "      <td>0.800000</td>\n",
       "      <td>48</td>\n",
       "      <td>9</td>\n",
       "      <td>150.0</td>\n",
       "      <td>1</td>\n",
       "      <td>1</td>\n",
       "      <td>1.329708</td>\n",
       "      <td>1</td>\n",
       "      <td>High</td>\n",
       "    </tr>\n",
       "    <tr>\n",
       "      <th>1</th>\n",
       "      <td>4.49</td>\n",
       "      <td>0.090000</td>\n",
       "      <td>409</td>\n",
       "      <td>6</td>\n",
       "      <td>75.0</td>\n",
       "      <td>1</td>\n",
       "      <td>1</td>\n",
       "      <td>1.000000</td>\n",
       "      <td>3</td>\n",
       "      <td>Medium</td>\n",
       "    </tr>\n",
       "    <tr>\n",
       "      <th>2</th>\n",
       "      <td>5.00</td>\n",
       "      <td>1.000000</td>\n",
       "      <td>2</td>\n",
       "      <td>3</td>\n",
       "      <td>275.0</td>\n",
       "      <td>1</td>\n",
       "      <td>1</td>\n",
       "      <td>2.000000</td>\n",
       "      <td>4</td>\n",
       "      <td>High</td>\n",
       "    </tr>\n",
       "    <tr>\n",
       "      <th>3</th>\n",
       "      <td>3.73</td>\n",
       "      <td>1.000000</td>\n",
       "      <td>507</td>\n",
       "      <td>4</td>\n",
       "      <td>68.0</td>\n",
       "      <td>1</td>\n",
       "      <td>1</td>\n",
       "      <td>1.000000</td>\n",
       "      <td>2</td>\n",
       "      <td>Medium</td>\n",
       "    </tr>\n",
       "    <tr>\n",
       "      <th>4</th>\n",
       "      <td>4.82</td>\n",
       "      <td>0.906901</td>\n",
       "      <td>118</td>\n",
       "      <td>7</td>\n",
       "      <td>75.0</td>\n",
       "      <td>1</td>\n",
       "      <td>1</td>\n",
       "      <td>1.000000</td>\n",
       "      <td>1</td>\n",
       "      <td>High</td>\n",
       "    </tr>\n",
       "    <tr>\n",
       "      <th>...</th>\n",
       "      <td>...</td>\n",
       "      <td>...</td>\n",
       "      <td>...</td>\n",
       "      <td>...</td>\n",
       "      <td>...</td>\n",
       "      <td>...</td>\n",
       "      <td>...</td>\n",
       "      <td>...</td>\n",
       "      <td>...</td>\n",
       "      <td>...</td>\n",
       "    </tr>\n",
       "    <tr>\n",
       "      <th>28017</th>\n",
       "      <td>5.00</td>\n",
       "      <td>1.000000</td>\n",
       "      <td>1</td>\n",
       "      <td>2</td>\n",
       "      <td>89.0</td>\n",
       "      <td>1</td>\n",
       "      <td>1</td>\n",
       "      <td>1.000000</td>\n",
       "      <td>2</td>\n",
       "      <td>High</td>\n",
       "    </tr>\n",
       "    <tr>\n",
       "      <th>28018</th>\n",
       "      <td>5.00</td>\n",
       "      <td>0.910000</td>\n",
       "      <td>2</td>\n",
       "      <td>5</td>\n",
       "      <td>1000.0</td>\n",
       "      <td>1</td>\n",
       "      <td>1</td>\n",
       "      <td>2.000000</td>\n",
       "      <td>6</td>\n",
       "      <td>High</td>\n",
       "    </tr>\n",
       "    <tr>\n",
       "      <th>28019</th>\n",
       "      <td>1.00</td>\n",
       "      <td>0.990000</td>\n",
       "      <td>1</td>\n",
       "      <td>2</td>\n",
       "      <td>64.0</td>\n",
       "      <td>1</td>\n",
       "      <td>1</td>\n",
       "      <td>1.000000</td>\n",
       "      <td>2</td>\n",
       "      <td>Low</td>\n",
       "    </tr>\n",
       "    <tr>\n",
       "      <th>28020</th>\n",
       "      <td>5.00</td>\n",
       "      <td>0.900000</td>\n",
       "      <td>1</td>\n",
       "      <td>7</td>\n",
       "      <td>84.0</td>\n",
       "      <td>1</td>\n",
       "      <td>1</td>\n",
       "      <td>1.000000</td>\n",
       "      <td>3</td>\n",
       "      <td>High</td>\n",
       "    </tr>\n",
       "    <tr>\n",
       "      <th>28021</th>\n",
       "      <td>5.00</td>\n",
       "      <td>0.906901</td>\n",
       "      <td>1</td>\n",
       "      <td>1</td>\n",
       "      <td>70.0</td>\n",
       "      <td>1</td>\n",
       "      <td>1</td>\n",
       "      <td>1.000000</td>\n",
       "      <td>1</td>\n",
       "      <td>High</td>\n",
       "    </tr>\n",
       "  </tbody>\n",
       "</table>\n",
       "<p>28022 rows × 10 columns</p>\n",
       "</div>"
      ],
      "text/plain": [
       "       review_scores_cleanliness  host_response_rate  number_of_reviews  \\\n",
       "0                           4.62            0.800000                 48   \n",
       "1                           4.49            0.090000                409   \n",
       "2                           5.00            1.000000                  2   \n",
       "3                           3.73            1.000000                507   \n",
       "4                           4.82            0.906901                118   \n",
       "...                          ...                 ...                ...   \n",
       "28017                       5.00            1.000000                  1   \n",
       "28018                       5.00            0.910000                  2   \n",
       "28019                       1.00            0.990000                  1   \n",
       "28020                       5.00            0.900000                  1   \n",
       "28021                       5.00            0.906901                  1   \n",
       "\n",
       "       n_host_verifications   price  host_is_superhost  has_availability  \\\n",
       "0                         9   150.0                  1                 1   \n",
       "1                         6    75.0                  1                 1   \n",
       "2                         3   275.0                  1                 1   \n",
       "3                         4    68.0                  1                 1   \n",
       "4                         7    75.0                  1                 1   \n",
       "...                     ...     ...                ...               ...   \n",
       "28017                     2    89.0                  1                 1   \n",
       "28018                     5  1000.0                  1                 1   \n",
       "28019                     2    64.0                  1                 1   \n",
       "28020                     7    84.0                  1                 1   \n",
       "28021                     1    70.0                  1                 1   \n",
       "\n",
       "       bedrooms  accommodates review_rating_class  \n",
       "0      1.329708             1                High  \n",
       "1      1.000000             3              Medium  \n",
       "2      2.000000             4                High  \n",
       "3      1.000000             2              Medium  \n",
       "4      1.000000             1                High  \n",
       "...         ...           ...                 ...  \n",
       "28017  1.000000             2                High  \n",
       "28018  2.000000             6                High  \n",
       "28019  1.000000             2                 Low  \n",
       "28020  1.000000             3                High  \n",
       "28021  1.000000             1                High  \n",
       "\n",
       "[28022 rows x 10 columns]"
      ]
     },
     "execution_count": 18,
     "metadata": {},
     "output_type": "execute_result"
    }
   ],
   "source": [
    "df"
   ]
  },
  {
   "cell_type": "markdown",
   "metadata": {},
   "source": [
    "**5.2: Create and fit model to the training data and evaluate model.**"
   ]
  },
  {
   "cell_type": "markdown",
   "metadata": {},
   "source": [
    "Define Labels: "
   ]
  },
  {
   "cell_type": "code",
   "execution_count": 19,
   "metadata": {},
   "outputs": [],
   "source": [
    "X = df.drop(\"review_rating_class\", axis=1)\n",
    "y = df['review_rating_class']"
   ]
  },
  {
   "cell_type": "markdown",
   "metadata": {},
   "source": [
    "Create training and test datasets:"
   ]
  },
  {
   "cell_type": "code",
   "execution_count": 20,
   "metadata": {},
   "outputs": [
    {
     "name": "stdout",
     "output_type": "stream",
     "text": [
      "(18774, 9)\n",
      "(9248, 9)\n"
     ]
    }
   ],
   "source": [
    "X_train, X_test, y_train, y_test = train_test_split(X, y, test_size=0.33, random_state=1234, stratify=y)\n",
    "print(X_train.shape)\n",
    "print(X_test.shape)"
   ]
  },
  {
   "cell_type": "markdown",
   "metadata": {},
   "source": [
    "Train RandomForestClassifier"
   ]
  },
  {
   "cell_type": "code",
   "execution_count": 21,
   "metadata": {},
   "outputs": [
    {
     "name": "stdout",
     "output_type": "stream",
     "text": [
      "Begin Random Forest Implementation...\n",
      "\n",
      "Accuracy score: 0.8662413494809689\n",
      "\n",
      "End\n"
     ]
    }
   ],
   "source": [
    "print(\"Begin Random Forest Implementation...\\n\")\n",
    "\n",
    "#Create Random Forest\n",
    "model = RandomForestClassifier(criterion='entropy', n_estimators=100, class_weight='balanced')\n",
    "\n",
    "#Fit the model to training data\n",
    "model.fit(X_train, y_train)\n",
    "\n",
    "#Make predictions on test data\n",
    "class_label_predictions = model.predict(X_test)\n",
    "\n",
    "#Calculate accuracy score \n",
    "acc_score = accuracy_score(y_test, class_label_predictions)\n",
    "print('Accuracy score: {0}\\n'.format(acc_score))\n",
    "print('End')"
   ]
  },
  {
   "cell_type": "markdown",
   "metadata": {},
   "source": [
    "Confusion Matrix to help understand:"
   ]
  },
  {
   "cell_type": "code",
   "execution_count": 23,
   "metadata": {},
   "outputs": [
    {
     "name": "stdout",
     "output_type": "stream",
     "text": [
      "Confusion Matrix for the model: \n",
      "                Predicted: Low  Predicted: Medium  Predicted: High\n",
      "Actual: Low                117                 70               59\n",
      "Actual: Medium              40                520              764\n",
      "Actual: High                18                286             7374\n"
     ]
    }
   ],
   "source": [
    "print('Confusion Matrix for the model: ')\n",
    "\n",
    "c_m = confusion_matrix(y_test, class_label_predictions, labels=['Low', 'Medium', 'High'])\n",
    "\n",
    "conf_matrix_df = pd.DataFrame(c_m, columns=['Predicted: Low', 'Predicted: Medium', 'Predicted: High'],\n",
    "    index=['Actual: Low', 'Actual: Medium', 'Actual: High']\n",
    ")\n",
    "\n",
    "print(conf_matrix_df)"
   ]
  },
  {
   "cell_type": "markdown",
   "metadata": {},
   "source": [
    "The accuracy score from the model is quite high, which can possibly be an issue since the model might be overfitting. I also added a confusion matrix to see what labels were correctly predicted. \n",
    "\n",
    "Since this is just the model with pretty \"default\" parameters and not much tuning, and there is a ppossibility that it is overfitting, I will proceed with hyperparameter tuning and optimizing the model. "
   ]
  },
  {
   "cell_type": "markdown",
   "metadata": {},
   "source": [
    "**5.3: Improve model's performance by performing model selection and/or feature selection techniques to find best model for the problem.**"
   ]
  },
  {
   "cell_type": "markdown",
   "metadata": {},
   "source": [
    "I will be using grid search to find the best hyperparameters for the model\n",
    "\n",
    "Grid search to optimize model: "
   ]
  },
  {
   "cell_type": "code",
   "execution_count": 25,
   "metadata": {},
   "outputs": [
    {
     "name": "stdout",
     "output_type": "stream",
     "text": [
      "Best parameters from GridSearchCV:\n",
      " {'class_weight': 'balanced', 'criterion': 'entropy', 'max_depth': 20, 'min_samples_split': 2, 'n_estimators': 150}\n"
     ]
    }
   ],
   "source": [
    "param_grid = {\n",
    "    'n_estimators': [50, 100, 150],\n",
    "    'max_depth': [5, 10, 20],\n",
    "    'min_samples_split': [2, 5],\n",
    "    'criterion': ['gini', 'entropy'],\n",
    "    'class_weight': ['balanced']\n",
    "}\n",
    "\n",
    "rf = RandomForestClassifier()\n",
    "\n",
    "#grid object\n",
    "grid = GridSearchCV(estimator=rf, param_grid=param_grid,\n",
    "                    cv=5, scoring='accuracy', n_jobs=-1)\n",
    "\n",
    "# Fit to training data\n",
    "grid.fit(X_train, y_train)\n",
    "\n",
    "# Print results\n",
    "print(\"Best parameters from GridSearchCV:\\n\", grid.best_params_)"
   ]
  },
  {
   "cell_type": "markdown",
   "metadata": {},
   "source": [
    "Since the results show the best parameters for the model, I will test it: "
   ]
  },
  {
   "cell_type": "code",
   "execution_count": 26,
   "metadata": {},
   "outputs": [
    {
     "name": "stdout",
     "output_type": "stream",
     "text": [
      "Tuned Accuracy Score: 0.864294982698962\n",
      "\n",
      "Confusion Matrix for Tuned Model:\n"
     ]
    },
    {
     "data": {
      "text/html": [
       "<div>\n",
       "<style scoped>\n",
       "    .dataframe tbody tr th:only-of-type {\n",
       "        vertical-align: middle;\n",
       "    }\n",
       "\n",
       "    .dataframe tbody tr th {\n",
       "        vertical-align: top;\n",
       "    }\n",
       "\n",
       "    .dataframe thead th {\n",
       "        text-align: right;\n",
       "    }\n",
       "</style>\n",
       "<table border=\"1\" class=\"dataframe\">\n",
       "  <thead>\n",
       "    <tr style=\"text-align: right;\">\n",
       "      <th></th>\n",
       "      <th>Predicted: Low</th>\n",
       "      <th>Predicted: Medium</th>\n",
       "      <th>Predicted: High</th>\n",
       "    </tr>\n",
       "  </thead>\n",
       "  <tbody>\n",
       "    <tr>\n",
       "      <th>Actual: Low</th>\n",
       "      <td>118</td>\n",
       "      <td>73</td>\n",
       "      <td>55</td>\n",
       "    </tr>\n",
       "    <tr>\n",
       "      <th>Actual: Medium</th>\n",
       "      <td>40</td>\n",
       "      <td>573</td>\n",
       "      <td>711</td>\n",
       "    </tr>\n",
       "    <tr>\n",
       "      <th>Actual: High</th>\n",
       "      <td>21</td>\n",
       "      <td>355</td>\n",
       "      <td>7302</td>\n",
       "    </tr>\n",
       "  </tbody>\n",
       "</table>\n",
       "</div>"
      ],
      "text/plain": [
       "                Predicted: Low  Predicted: Medium  Predicted: High\n",
       "Actual: Low                118                 73               55\n",
       "Actual: Medium              40                573              711\n",
       "Actual: High                21                355             7302"
      ]
     },
     "execution_count": 26,
     "metadata": {},
     "output_type": "execute_result"
    }
   ],
   "source": [
    "best_rf = grid.best_estimator_\n",
    "\n",
    "# Predict with best model\n",
    "best_preds = best_rf.predict(X_test)\n",
    "\n",
    "# Accuracy\n",
    "best_acc = accuracy_score(y_test, best_preds)\n",
    "print('Tuned Accuracy Score:', best_acc)\n",
    "\n",
    "# Confusion Matrix\n",
    "print('\\nConfusion Matrix for Tuned Model:')\n",
    "c_m = confusion_matrix(y_test, best_preds, labels=['Low', 'Medium', 'High'])\n",
    "pd.DataFrame(c_m, columns=['Predicted: Low', 'Predicted: Medium', 'Predicted: High'], index=['Actual: Low', 'Actual: Medium', 'Actual: High'])"
   ]
  },
  {
   "cell_type": "markdown",
   "metadata": {},
   "source": [
    "Although the resulting score is a little bit less than the beginning model, and the confusion matrix also reveals that there were more inaccurate predictions, this can possibly be a better model since this can reflect that the model generalizes well and is not just memorizing the data. "
   ]
  },
  {
   "cell_type": "markdown",
   "metadata": {},
   "source": [
    "To evaluate further, I will compare the training and testing accuracy score: "
   ]
  },
  {
   "cell_type": "code",
   "execution_count": 27,
   "metadata": {},
   "outputs": [
    {
     "name": "stdout",
     "output_type": "stream",
     "text": [
      "Training Accuracy: 0.9946\n",
      "Testing Accuracy:  0.8643\n"
     ]
    }
   ],
   "source": [
    "train_acc = accuracy_score(y_train, best_rf.predict(X_train))\n",
    "test_acc = accuracy_score(y_test, best_rf.predict(X_test))\n",
    "\n",
    "print(f\"Training Accuracy: {train_acc:.4f}\")\n",
    "print(f\"Testing Accuracy:  {test_acc:.4f}\")\n"
   ]
  },
  {
   "cell_type": "markdown",
   "metadata": {},
   "source": [
    "Since the training and testing accuracy still seem very high, and have a pretty big gap between them, I will use cross validation to make sure the model is not just overfitting and is able to generalize better: "
   ]
  },
  {
   "cell_type": "code",
   "execution_count": 35,
   "metadata": {},
   "outputs": [
    {
     "name": "stdout",
     "output_type": "stream",
     "text": [
      "Cross-validation accuracy scores: [0.85941124 0.86190901 0.86134904 0.86777302 0.86420414]\n"
     ]
    }
   ],
   "source": [
    "from sklearn.model_selection import cross_val_score\n",
    "\n",
    "cv_scores = cross_val_score(best_rf, X, y, cv=5, scoring='accuracy')\n",
    "\n",
    "print(f\"Cross-validation accuracy scores: {cv_scores}\")"
   ]
  },
  {
   "cell_type": "markdown",
   "metadata": {},
   "source": [
    "Since the cross validation scores are all similar values, and they are not perfect scores, I would say this model generalizes well."
   ]
  },
  {
   "cell_type": "markdown",
   "metadata": {},
   "source": [
    "## **Final Conclusions**"
   ]
  },
  {
   "cell_type": "markdown",
   "metadata": {},
   "source": [
    "Although the model generalizes well which is shown by the test data and cross validation scores, it is very important to know that it seems to be possibly overfitting the training data since the training accuracy is extremely high. I have tried different hyperparameters but they achieve similar/worse results, so I decided to stick with this model. Since the model seems to be generalizing well, and I used methods I found through documentation to deal with the class imbalance, like stratify and class_weight='balanced', I believe this is the best result I can achieve. "
   ]
  }
 ],
 "metadata": {
  "kernelspec": {
   "display_name": "Python 3 (ipykernel)",
   "language": "python",
   "name": "python3"
  },
  "language_info": {
   "codemirror_mode": {
    "name": "ipython",
    "version": 3
   },
   "file_extension": ".py",
   "mimetype": "text/x-python",
   "name": "python",
   "nbconvert_exporter": "python",
   "pygments_lexer": "ipython3",
   "version": "3.9.19"
  },
  "toc": {
   "base_numbering": 1,
   "nav_menu": {},
   "number_sections": false,
   "sideBar": true,
   "skip_h1_title": false,
   "title_cell": "Table of Contents",
   "title_sidebar": "Contents",
   "toc_cell": false,
   "toc_position": {},
   "toc_section_display": true,
   "toc_window_display": false
  },
  "varInspector": {
   "cols": {
    "lenName": 16,
    "lenType": 16,
    "lenVar": 40
   },
   "kernels_config": {
    "python": {
     "delete_cmd_postfix": "",
     "delete_cmd_prefix": "del ",
     "library": "var_list.py",
     "varRefreshCmd": "print(var_dic_list())"
    },
    "r": {
     "delete_cmd_postfix": ") ",
     "delete_cmd_prefix": "rm(",
     "library": "var_list.r",
     "varRefreshCmd": "cat(var_dic_list()) "
    }
   },
   "types_to_exclude": [
    "module",
    "function",
    "builtin_function_or_method",
    "instance",
    "_Feature"
   ],
   "window_display": false
  }
 },
 "nbformat": 4,
 "nbformat_minor": 4
}
